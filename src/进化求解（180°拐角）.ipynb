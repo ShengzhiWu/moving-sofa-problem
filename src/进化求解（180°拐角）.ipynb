{
 "cells": [
  {
   "cell_type": "code",
   "execution_count": 1,
   "id": "3f91e5ee",
   "metadata": {},
   "outputs": [
    {
     "name": "stdout",
     "output_type": "stream",
     "text": [
      "[Taichi] version 1.7.3, llvm 15.0.1, commit 5ec301be, win, python 3.12.3\n",
      "[Taichi] Starting on arch=cuda\n"
     ]
    }
   ],
   "source": [
    "import numpy as np\n",
    "from PIL import Image\n",
    "import taichi as ti\n",
    "from scipy.ndimage import zoom\n",
    "import matplotlib.pyplot as plt\n",
    "from utils import run_optimization, resample_polyline, get_area\n",
    "\n",
    "ti.init(arch=ti.gpu)"
   ]
  },
  {
   "cell_type": "code",
   "execution_count": 7,
   "id": "425ab240",
   "metadata": {},
   "outputs": [
    {
     "data": {
      "text/plain": [
       "(-1.3375, 0.5875, -0.55, 0.55)"
      ]
     },
     "execution_count": 7,
     "metadata": {},
     "output_type": "execute_result"
    },
    {
     "data": {
      "image/png": "[encoded data removed]",
      "text/plain": [
       "<Figure size 640x480 with 1 Axes>"
      ]
     },
     "metadata": {},
     "output_type": "display_data"
    }
   ],
   "source": [
    "def init_trajectory(sofa_w, sofa_h, control_point_num, middle_rotation=-0.5 * np.pi, offset=1):  # 生成初始轨迹\n",
    "    xs, ys, rotations = resample_polyline([\n",
    "        [-sofa_w / 2, 0.5, 0],\n",
    "        [0.5, 0.5, 0],\n",
    "        [0.5, 0.5, middle_rotation],\n",
    "        [0.5, 0.5 - offset, middle_rotation],\n",
    "        [0.5, 0.5 - offset, middle_rotation * 2],\n",
    "        [-sofa_w / 2, 0.5 - offset, middle_rotation * 2]\n",
    "    ], control_point_num).T\n",
    "    return xs, ys, rotations\n",
    "\n",
    "offset = 1  # 前后走廊中线的距离\n",
    "\n",
    "sofa_w = 2.5   # 求解域的尺寸\n",
    "sofa_h = 1.0   # 求解域的尺寸\n",
    "\n",
    "xs, ys, rotations = init_trajectory(  # 初始轨迹\n",
    "    sofa_w=sofa_w,\n",
    "    sofa_h=sofa_h,\n",
    "    control_point_num=30,  # 轨迹的控制点数量\n",
    "    offset=offset\n",
    ")\n",
    "\n",
    "plt.scatter(xs, ys)\n",
    "plt.axis('equal')"
   ]
  },
  {
   "cell_type": "code",
   "execution_count": null,
   "id": "69178208",
   "metadata": {},
   "outputs": [],
   "source": [
    "# xs, ys, rotations = np.load('../trajectory/180°拐角/sofa_900.npy')"
   ]
  },
  {
   "cell_type": "code",
   "execution_count": null,
   "id": "537dd794",
   "metadata": {},
   "outputs": [],
   "source": [
    "assert offset == 1\n",
    "\n",
    "@ti.func\n",
    "def is_forbidden(x1, y1, x2, y2):  # 指定哪里是墙\n",
    "    return y2 < -1 or y2 > 1 or x2 > 1 or (x2 < 0 and y1 * y2 < 0)  # 括号里的内容制定了无穷薄但不能穿过的墙\n",
    "\n",
    "best_score, xs, ys, rotations, sofa, maximal_area_record = run_optimization(\n",
    "    is_forbidden,\n",
    "    xs,\n",
    "    ys,\n",
    "    rotations,\n",
    "    # initial_xs=zoom(xs, zoom=2, order=1),\n",
    "    # initial_ys=zoom(ys, zoom=2, order=1),\n",
    "    # initial_rotations=zoom(rotations, zoom=2, order=1),\n",
    "    sofa_w=sofa_w,\n",
    "    sofa_h=sofa_h,\n",
    "    mutation_sigma_pos = 0.02,  # 变异率\n",
    "    mutation_sigma_rotation = 0.004,  # 变异率\n",
    "    iterations = 200000,  # 200000\n",
    "    trajectory_upsampling=41,  # 41 101\n",
    "    resolution=1024,  # 1024 2000\n",
    "    print_every=500,  # 1000\n",
    "    save_image_every=83,\n",
    "    save_image_path='../images/180°拐角/sofa_',\n",
    "    save_image_start_id=0,\n",
    "    save_trajectory_path='../trajectory/180°拐角/sofa_'\n",
    ")\n",
    "print(f\"Estimated maximal sofa area (by sampling): {best_score:.5f}\")\n",
    "# save mask image as PNG if pillow is available\n",
    "\n",
    "img = (sofa * 255).astype(np.uint8)\n",
    "im = Image.fromarray(img.T[::-1])\n",
    "im.save('../sofa_survivors.png')\n",
    "print('../Saved sofa_survivors.png')\n",
    "plt.plot(maximal_area_record)"
   ]
  },
  {
   "cell_type": "code",
   "execution_count": null,
   "id": "3bc5c406",
   "metadata": {},
   "outputs": [],
   "source": []
  }
 ],
 "metadata": {
  "kernelspec": {
   "display_name": "base",
   "language": "python",
   "name": "python3"
  },
  "language_info": {
   "codemirror_mode": {
    "name": "ipython",
    "version": 3
   },
   "file_extension": ".py",
   "mimetype": "text/x-python",
   "name": "python",
   "nbconvert_exporter": "python",
   "pygments_lexer": "ipython3",
   "version": "3.12.3"
  }
 },
 "nbformat": 4,
 "nbformat_minor": 5
}
